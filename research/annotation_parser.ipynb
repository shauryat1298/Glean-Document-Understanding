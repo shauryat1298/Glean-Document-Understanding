{
 "cells": [
  {
   "cell_type": "code",
   "execution_count": 1,
   "metadata": {},
   "outputs": [],
   "source": [
    "import sys\n",
    "from pathlib import Path\n",
    "path = Path(\"C:/Users/shaur/Desktop/Glean_Implementation\")\n",
    "sys.path.append(str(path))"
   ]
  },
  {
   "cell_type": "code",
   "execution_count": 2,
   "metadata": {},
   "outputs": [
    {
     "data": {
      "text/plain": [
       "<module 'utils.config' from 'C:\\\\Users\\\\shaur\\\\Desktop\\\\Glean_Implementation\\\\utils\\\\config.py'>"
      ]
     },
     "execution_count": 2,
     "metadata": {},
     "output_type": "execute_result"
    }
   ],
   "source": [
    "from pathlib import Path\n",
    "import traceback\n",
    "from tqdm import tqdm\n",
    "import json\n",
    "\n",
    "from utils import config\n",
    "import importlib\n",
    "importlib.reload(config)"
   ]
  },
  {
   "cell_type": "code",
   "execution_count": 3,
   "metadata": {},
   "outputs": [],
   "source": [
    "def get_data(xml_path, split_name='train'):\n",
    "\n",
    "    annotations = []\n",
    "    classes_count = {}\n",
    "    class_mapping = {}\n",
    "\n",
    "    split_file_path = config.SPLIT_DIR / f\"{split_name}.txt\"\n",
    "    with open(split_file_path, 'r') as f:\n",
    "        valid_files = f.read().split(\"\\n\")\n",
    "    annotation_files = list(xml_path.glob(\"*.json\"))\n",
    "    annotation_files = [an for an in annotation_files if an.stem in valid_files]\n",
    "\n",
    "    for annot in tqdm(annotation_files, desc=\"Reading Annotations\"):\n",
    "        try:\n",
    "            with open(annot) as f:\n",
    "                data = json.load(f)\n",
    "        \n",
    "            element_width = int(data['ocr']['pages'][0]['dimension']['width'])\n",
    "            element_height = int(data['ocr']['pages'][0]['dimension']['height'])\n",
    "\n",
    "            annotation_data = {'filename': annot.stem, 'width': element_width,\n",
    "                               'height': element_height, 'fields': {'registration_num': {'true_candidates': [],\n",
    "                                                                                   'other_candidates': []}\n",
    "                                                                    # 'registrant_name': {'true_candidates': [],\n",
    "                                                                    #                  'other_candidates': []}\n",
    "                                                                    }}\n",
    "            for i, cls in enumerate(annotation_data['fields']):\n",
    "                if cls not in classes_count:\n",
    "                    classes_count[cls] = 0\n",
    "                    class_mapping[cls] = i\n",
    "            \n",
    "            for ann in data[\"annotations\"]:\n",
    "                class_name = ann[0]\n",
    "                # class_name = ann[1][0][1][1]\n",
    "                # print(class_name)\n",
    "                if class_name not in annotation_data['fields']:\n",
    "                    # print(\"Unidentified field Found:\", class_name, \"in file:\", annot.name)\n",
    "                    continue\n",
    "                else:\n",
    "                    classes_count[class_name] += 1\n",
    "                \n",
    "                x1 = int(round(float(ann[1][0][1][1])*element_width))\n",
    "                y1 = int(round(float(ann[1][0][1][2])*element_height))\n",
    "                x2 = int(round(float(ann[1][0][1][3])*element_width))\n",
    "                y2 = int(round(float(ann[1][0][1][4])*element_height))\n",
    "\n",
    "                annotation_data['fields'][class_name]['true_candidates'].append({'x1': x1, 'x2': x2, 'y1': y1, 'y2': y2})\n",
    "            \n",
    "            annotations.append(annotation_data)\n",
    "        \n",
    "        except Exception:\n",
    "            print(traceback.format_exc())\n",
    "    \n",
    "    return annotations, classes_count, class_mapping"
   ]
  },
  {
   "cell_type": "code",
   "execution_count": 4,
   "metadata": {},
   "outputs": [
    {
     "name": "stderr",
     "output_type": "stream",
     "text": [
      "Reading Annotations: 100%|██████████| 200/200 [00:00<00:00, 2321.55it/s]"
     ]
    },
    {
     "name": "stdout",
     "output_type": "stream",
     "text": [
      "200 {'registration_num': 197} {'registration_num': 0}\n"
     ]
    },
    {
     "name": "stderr",
     "output_type": "stream",
     "text": [
      "\n"
     ]
    }
   ],
   "source": [
    "xml_path = config.XML_DIR\n",
    "k, l, m = get_data(xml_path)\n",
    "print(len(k), l, m)"
   ]
  },
  {
   "cell_type": "code",
   "execution_count": 5,
   "metadata": {},
   "outputs": [
    {
     "data": {
      "text/plain": [
       "device(type='cuda', index=0)"
      ]
     },
     "execution_count": 5,
     "metadata": {},
     "output_type": "execute_result"
    }
   ],
   "source": [
    "import torch\n",
    "device = torch.device('cuda:0' if torch.cuda.is_available() else 'cpu')\n",
    "device"
   ]
  },
  {
   "cell_type": "code",
   "execution_count": null,
   "metadata": {},
   "outputs": [],
   "source": []
  }
 ],
 "metadata": {
  "kernelspec": {
   "display_name": "replearn",
   "language": "python",
   "name": "python3"
  },
  "language_info": {
   "codemirror_mode": {
    "name": "ipython",
    "version": 3
   },
   "file_extension": ".py",
   "mimetype": "text/x-python",
   "name": "python",
   "nbconvert_exporter": "python",
   "pygments_lexer": "ipython3",
   "version": "3.9.18"
  }
 },
 "nbformat": 4,
 "nbformat_minor": 2
}
