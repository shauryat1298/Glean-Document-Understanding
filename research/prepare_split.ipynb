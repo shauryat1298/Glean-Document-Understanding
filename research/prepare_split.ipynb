{
 "cells": [
  {
   "cell_type": "code",
   "execution_count": 18,
   "metadata": {},
   "outputs": [],
   "source": [
    "import sys\n",
    "from pathlib import Path\n",
    "main_path = Path(\"C:/Users/shaur/Desktop/Glean_Implementation\")\n",
    "sys.path.append(str(main_path))"
   ]
  },
  {
   "cell_type": "code",
   "execution_count": 20,
   "metadata": {},
   "outputs": [
    {
     "data": {
      "text/plain": [
       "<module 'utils.config' from 'C:\\\\Users\\\\shaur\\\\Desktop\\\\Glean_Implementation\\\\utils\\\\config.py'>"
      ]
     },
     "execution_count": 20,
     "metadata": {},
     "output_type": "execute_result"
    }
   ],
   "source": [
    "import gzip\n",
    "import json\n",
    "from pathlib import Path\n",
    "import os\n",
    "from utils import config\n",
    "import importlib\n",
    "importlib.reload(config)"
   ]
  },
  {
   "cell_type": "code",
   "execution_count": 21,
   "metadata": {},
   "outputs": [],
   "source": [
    "train_test_split_path = config.TRAIN_TEST_SPLIT\n",
    "save_dir = config.SPLIT_DIR\n",
    "\n",
    "os.makedirs(save_dir, exist_ok=True)\n",
    "with open(train_test_split_path) as f:\n",
    "    data = json.load(f)"
   ]
  },
  {
   "cell_type": "code",
   "execution_count": 22,
   "metadata": {},
   "outputs": [],
   "source": [
    "train_data = data['train']\n",
    "with open(os.path.join(save_dir, 'train.txt'), 'w') as train_file:\n",
    "    for entry in train_data:\n",
    "        file_name = os.path.splitext(entry)[0]  # Remove the .pdf extension\n",
    "        train_file.write(file_name + '\\n')\n",
    "\n",
    "# Save \"valid\" data to val.txt\n",
    "valid_data = data['valid']\n",
    "with open(os.path.join(save_dir, 'val.txt'), 'w') as valid_file:\n",
    "    for entry in valid_data:\n",
    "        file_name = os.path.splitext(entry)[0]  # Remove the .pdf extension\n",
    "        valid_file.write(file_name + '\\n')"
   ]
  },
  {
   "cell_type": "code",
   "execution_count": null,
   "metadata": {},
   "outputs": [],
   "source": []
  }
 ],
 "metadata": {
  "kernelspec": {
   "display_name": "replearn",
   "language": "python",
   "name": "python3"
  },
  "language_info": {
   "codemirror_mode": {
    "name": "ipython",
    "version": 3
   },
   "file_extension": ".py",
   "mimetype": "text/x-python",
   "name": "python",
   "nbconvert_exporter": "python",
   "pygments_lexer": "ipython3",
   "version": "3.9.18"
  }
 },
 "nbformat": 4,
 "nbformat_minor": 2
}
