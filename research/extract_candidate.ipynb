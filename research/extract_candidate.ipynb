{
 "cells": [
  {
   "cell_type": "code",
   "execution_count": 1,
   "metadata": {},
   "outputs": [],
   "source": [
    "import sys\n",
    "from pathlib import Path\n",
    "path = Path(\"C:/Users/shaur/Desktop/Glean_Implementation\")\n",
    "sys.path.append(str(path))"
   ]
  },
  {
   "cell_type": "code",
   "execution_count": 2,
   "metadata": {},
   "outputs": [
    {
     "data": {
      "text/plain": [
       "<module 'utils.config' from 'C:\\\\Users\\\\shaur\\\\Desktop\\\\Glean_Implementation\\\\utils\\\\config.py'>"
      ]
     },
     "execution_count": 2,
     "metadata": {},
     "output_type": "execute_result"
    }
   ],
   "source": [
    "import re\n",
    "import os\n",
    "\n",
    "import json\n",
    "from utils import config\n",
    "import importlib\n",
    "importlib.reload(config)"
   ]
  },
  {
   "cell_type": "code",
   "execution_count": 3,
   "metadata": {},
   "outputs": [],
   "source": [
    "def get_reg_nums(all_words):\n",
    "    reg_nums = []\n",
    "    reg_no_re = r'^[0-9a-zA-Z-:]+$'\n",
    "    for word in all_words:\n",
    "        if not re.search('\\d', word['text']):\n",
    "            continue\n",
    "        if len(word['text']) < 4:\n",
    "            continue\n",
    "        result = re.findall(reg_no_re, word['text'])\n",
    "        if result:\n",
    "            reg_nums.append({\n",
    "                'text': word['text'],\n",
    "                'x1': word['x1'],\n",
    "                'y1': word['y1'],\n",
    "                'x2': word['x2'],\n",
    "                'y2': word['y2']\n",
    "            })\n",
    "\n",
    "    return reg_nums"
   ]
  },
  {
   "cell_type": "code",
   "execution_count": 4,
   "metadata": {},
   "outputs": [],
   "source": [
    "# def get_reg_names(data):\n",
    "#     reg_names = []\n",
    "\n",
    "#     for para in data['ocr']['pages'][0]['paragraphs']:\n"
   ]
  },
  {
   "cell_type": "code",
   "execution_count": 5,
   "metadata": {},
   "outputs": [],
   "source": [
    "def get_candidates(data):\n",
    "        all_words = []  \n",
    "\n",
    "        element_width = int(data['ocr']['pages'][0]['dimension']['width'])\n",
    "        element_height = int(data['ocr']['pages'][0]['dimension']['height'])\n",
    "\n",
    "        for token in data['ocr']['pages'][0]['tokens']:\n",
    "            if token['text'].strip() != \"\":\n",
    "                all_words.append({\n",
    "                    'text': token['text'],\n",
    "                    'x1': int(round(float(token['bbox'][1])*element_width)),\n",
    "                    'y1': int(round(float(token['bbox'][2])*element_height)),\n",
    "                    'x2': int(round(float(token['bbox'][3])*element_width)),\n",
    "                    'y2': int(round(float(token['bbox'][4])*element_height))})\n",
    "        text = ' '.join([word['text'].strip() for word in all_words])\n",
    "\n",
    "        try:\n",
    "            reg_num_candidates = get_reg_nums(all_words)\n",
    "        except Exception as e:\n",
    "            reg_num_candidates = []\n",
    "        # try:\n",
    "        #     reg_name_candidates = get_reg_names(data)\n",
    "        # except Exception as e:\n",
    "        #     reg_name_candidates = []\n",
    "\n",
    "        candidate_data = {\n",
    "            'registration_num': reg_num_candidates\n",
    "            # 'registrant_name': reg_name_candidates\n",
    "            # 'total': total_amount_candidates\n",
    "        }\n",
    "        return candidate_data"
   ]
  },
  {
   "cell_type": "code",
   "execution_count": 6,
   "metadata": {},
   "outputs": [],
   "source": [
    "ocr_path = config.OCR_DIR\n",
    "output_dir = config.CANDIDATE_DIR\n",
    "\n",
    "os.makedirs(output_dir, exist_ok=True)"
   ]
  },
  {
   "cell_type": "code",
   "execution_count": 7,
   "metadata": {},
   "outputs": [],
   "source": [
    "annotation_files = list(ocr_path.glob(\"*.json\"))\n",
    "\n",
    "for ann in annotation_files:\n",
    "    with open(ann) as f:\n",
    "        data = json.load(f)\n",
    "        result = get_candidates(data)\n",
    "\n",
    "        output_file_name = os.path.splitext(data['filename'])[0]\n",
    "        output_file_path = os.path.join(output_dir, output_file_name+'.json')\n",
    "\n",
    "        with open(output_file_path, 'w', encoding='utf-8') as output_file:\n",
    "            json.dump(result, output_file, ensure_ascii=False, indent=2)\n"
   ]
  },
  {
   "cell_type": "code",
   "execution_count": null,
   "metadata": {},
   "outputs": [],
   "source": []
  }
 ],
 "metadata": {
  "kernelspec": {
   "display_name": "replearn",
   "language": "python",
   "name": "python3"
  },
  "language_info": {
   "codemirror_mode": {
    "name": "ipython",
    "version": 3
   },
   "file_extension": ".py",
   "mimetype": "text/x-python",
   "name": "python",
   "nbconvert_exporter": "python",
   "pygments_lexer": "ipython3",
   "version": "3.9.18"
  }
 },
 "nbformat": 4,
 "nbformat_minor": 2
}
